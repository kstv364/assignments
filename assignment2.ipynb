{
 "cells": [
  {
   "cell_type": "markdown",
   "metadata": {},
   "source": [
    "### Task 1\n",
    "\n",
    "1.1 Write a Python Program to implement your own myreduce() function which works exactly like Python's built-in function reduce()"
   ]
  },
  {
   "cell_type": "code",
   "execution_count": 1,
   "metadata": {},
   "outputs": [
    {
     "data": {
      "text/plain": [
       "9"
      ]
     },
     "execution_count": 1,
     "metadata": {},
     "output_type": "execute_result"
    }
   ],
   "source": [
    "def my_sum(a,b):\n",
    "    return b**a\n",
    "\n",
    "def my_reduce(function,sequence):\n",
    "    try:\n",
    "        accumulator = sequence[0]\n",
    "    except:\n",
    "        print(\"Not a squence\")\n",
    "        return False\n",
    "    for i in sequence[1:]:\n",
    "        try:\n",
    "            accumulator = function(accumulator,i)\n",
    "        except:\n",
    "            print(\"Incompatible arguments with passed function\")\n",
    "            return False\n",
    "        \n",
    "    return accumulator\n",
    "\n",
    "my_reduce(my_sum,[1,2,3])"
   ]
  },
  {
   "cell_type": "markdown",
   "metadata": {},
   "source": [
    "1.2 Write a Python program to implement your own myfilter() function which works exactly like Python's built-in function filter()"
   ]
  },
  {
   "cell_type": "code",
   "execution_count": 2,
   "metadata": {},
   "outputs": [
    {
     "data": {
      "text/plain": [
       "[2, 4, 6, 8]"
      ]
     },
     "execution_count": 2,
     "metadata": {},
     "output_type": "execute_result"
    }
   ],
   "source": [
    "def my_filter(function,sequence):\n",
    "    accumulator = []\n",
    "    try:\n",
    "        for e in sequence:\n",
    "            try:\n",
    "                if(function(e)):\n",
    "                    accumulator.append(e)\n",
    "            except:\n",
    "                print(\"Input function and arguments are not compatible\")\n",
    "                return False\n",
    "    except:\n",
    "        print(\"Not a sequence\")\n",
    "        return  False\n",
    "    return accumulator\n",
    "\n",
    "def check_even(x):\n",
    "    return x%2==0\n",
    "\n",
    "my_filter(check_even,[1,2,3,4,5,6,7,8])        "
   ]
  },
  {
   "cell_type": "code",
   "execution_count": 3,
   "metadata": {},
   "outputs": [
    {
     "name": "stdout",
     "output_type": "stream",
     "text": [
      "['A', 'C', 'A', 'D', 'G', 'I', 'L', 'D']\n",
      "['x', 'xx', 'xxx', 'xxxx', 'y', 'yy', 'yyy', 'yyyy', 'z', 'zz', 'zzz', 'zzzz']\n",
      "['x', 'y', 'z', 'xx', 'yy', 'zz', 'xxx', 'yyy', 'zzz', 'xxxx', 'yyyy', 'zzzz']\n",
      "[[2], [3], [4], [3], [4], [5], [4], [5], [6]]\n",
      "[[2, 3, 4, 5], [3, 4, 5, 6], [4, 5, 6, 7], [5, 6, 7, 8]]\n",
      "[(1, 1), (2, 1), (3, 1), (1, 2), (2, 2), (3, 2), (1, 3), (2, 3), (3, 3)]\n"
     ]
    }
   ],
   "source": [
    "word = \"ACADGILD\"\n",
    "alphabet_list = [ alphabet for alphabet in word ]\n",
    "print (alphabet_list)\n",
    "\n",
    "input_list = ['x','y','z']\n",
    "result = [ item*num for item in input_list for num in range(1,5)  ]\n",
    "print(result)\n",
    "\n",
    "input_list = ['x','y','z']\n",
    "result = [ item*num for num in range(1,5) for item in input_list  ]\n",
    "print(result)\n",
    "\n",
    "input_list = [2,3,4]\n",
    "result = [ [item+num] for item in input_list for num in range(0,3)]\n",
    "print(result)\n",
    "\n",
    "input_list = [2,3,4,5]\n",
    "result = [ [item+num for item in input_list] for num in range(0,4)  ]\n",
    "print(result)\n",
    "\n",
    "input_list=[1,2,3]\n",
    "result = [ (b,a) for a in input_list for b in input_list]\n",
    "print(result)"
   ]
  },
  {
   "cell_type": "markdown",
   "metadata": {},
   "source": [
    "3. Implement a function longestWord() that takes a list of words and returns the longest one."
   ]
  },
  {
   "cell_type": "code",
   "execution_count": 4,
   "metadata": {},
   "outputs": [
    {
     "name": "stdout",
     "output_type": "stream",
     "text": [
      "Incompatible arguments with passed function\n"
     ]
    },
    {
     "data": {
      "text/plain": [
       "False"
      ]
     },
     "execution_count": 4,
     "metadata": {},
     "output_type": "execute_result"
    }
   ],
   "source": [
    "def greater(w1,w2):\n",
    "    if(len(w1)>len(w2)):\n",
    "        return w1\n",
    "    return w2\n",
    "\n",
    "def longest_word(words):\n",
    "    try:\n",
    "        return my_reduce(greater,words)\n",
    "    except:\n",
    "        print(\"Bad Input\")\n",
    "        return False\n",
    "\n",
    "longest_word([1,\"ac\",\"Acde\",\"Ded\"])\n",
    "    "
   ]
  },
  {
   "cell_type": "markdown",
   "metadata": {},
   "source": [
    "### Task 2\n",
    "\n",
    "2.1 Write a Python program using function concept that maps list of words into a list of integers\n",
    "representing the lengths of the corresponding words"
   ]
  },
  {
   "cell_type": "code",
   "execution_count": 5,
   "metadata": {},
   "outputs": [
    {
     "data": {
      "text/plain": [
       "[2, 5]"
      ]
     },
     "execution_count": 5,
     "metadata": {},
     "output_type": "execute_result"
    }
   ],
   "source": [
    "def get_lengths(word_list):\n",
    "    if(len(word_list)>0):\n",
    "        try:\n",
    "            return [len(word) for word in word_list]\n",
    "        except:\n",
    "            print(\"Bad Input\")\n",
    "    return False\n",
    "\n",
    "get_lengths([\"AC\",\"abdhb\"])"
   ]
  },
  {
   "cell_type": "markdown",
   "metadata": {},
   "source": [
    "2.2 Write a Python function which takes a character (i.e. a string of length 1) and returns True if it is\n",
    "a vowel, False otherwise"
   ]
  },
  {
   "cell_type": "code",
   "execution_count": 6,
   "metadata": {},
   "outputs": [
    {
     "name": "stdout",
     "output_type": "stream",
     "text": [
      "a\n"
     ]
    },
    {
     "data": {
      "text/plain": [
       "True"
      ]
     },
     "execution_count": 6,
     "metadata": {},
     "output_type": "execute_result"
    }
   ],
   "source": [
    "def check_vowel(c):\n",
    "    if(len(c)==1):\n",
    "        if(c in list(\"aeiou\")):\n",
    "            return True\n",
    "        else:\n",
    "            return False\n",
    "    else:\n",
    "        print(\"Bad input!!\")\n",
    "        return False\n",
    "\n",
    "    \n",
    "check_vowel(input())"
   ]
  },
  {
   "cell_type": "markdown",
   "metadata": {},
   "source": [
    "2.3 Write a Python Program(with class concepts) to find the area of the triangle using the below\n",
    "formula.\n",
    "\n",
    "area = (s*(s-a)*(s-b)*(s-c)) ** 0.5\n",
    "\n",
    "Function to take the length of the sides of triangle from user should be defined in the parent\n",
    "class and function to calculate the area should be defined in subclass.\n",
    "\n"
   ]
  },
  {
   "cell_type": "code",
   "execution_count": 7,
   "metadata": {},
   "outputs": [
    {
     "name": "stdout",
     "output_type": "stream",
     "text": [
      "Enter side : 5\n",
      "Enter side : 6\n",
      "Enter side : 7\n"
     ]
    },
    {
     "data": {
      "text/plain": [
       "14.696938456699069"
      ]
     },
     "execution_count": 7,
     "metadata": {},
     "output_type": "execute_result"
    }
   ],
   "source": [
    "class Base:\n",
    "    def __init__(self):\n",
    "        self.a = self.b = self.c = 0\n",
    "    \n",
    "    def take_input(self):\n",
    "        try:\n",
    "            self.a = int(input(\"Enter side : \"))\n",
    "            self.b = int(input(\"Enter side : \"))\n",
    "            self.c = int(input(\"Enter side : \"))\n",
    "        except:\n",
    "            print(\"Bad Input!\")\n",
    "            self.a = self.b = self.c = 0\n",
    "            return False\n",
    "    \n",
    "        \n",
    "class Child(Base):\n",
    "    \n",
    "    def calculate_area(self):\n",
    "        self.s = (self.a + self.b + self.c)/2\n",
    "        self.area = (self.s*(self.s - self.a)*(self.s-self.b)*(self.s-self.c))**(0.5)\n",
    "        return self.area\n",
    "        \n",
    "obj = Child()\n",
    "obj.take_input()\n",
    "obj.calculate_area()\n",
    "        "
   ]
  },
  {
   "cell_type": "markdown",
   "metadata": {},
   "source": [
    "2.4 Write a function filter_long_words() that takes a list of words and an integer n and returns the list\n",
    "of words that are longer than n."
   ]
  },
  {
   "cell_type": "code",
   "execution_count": 8,
   "metadata": {},
   "outputs": [
    {
     "data": {
      "text/plain": [
       "['word', 'se3e3']"
      ]
     },
     "execution_count": 8,
     "metadata": {},
     "output_type": "execute_result"
    }
   ],
   "source": [
    "def filter_long_words(words,n):\n",
    "    try:\n",
    "        ans = [word for word in words if len(word) > n]\n",
    "    except:\n",
    "        print(\"bad input\")\n",
    "        return False\n",
    "    return ans\n",
    "\n",
    "filter_long_words([\"word\",\"se3e3\",\"a\",\"bcd\"],3)"
   ]
  }
 ],
 "metadata": {
  "kernelspec": {
   "display_name": "Python 3",
   "language": "python",
   "name": "python3"
  },
  "language_info": {
   "codemirror_mode": {
    "name": "ipython",
    "version": 3
   },
   "file_extension": ".py",
   "mimetype": "text/x-python",
   "name": "python",
   "nbconvert_exporter": "python",
   "pygments_lexer": "ipython3",
   "version": "3.6.5"
  }
 },
 "nbformat": 4,
 "nbformat_minor": 2
}
